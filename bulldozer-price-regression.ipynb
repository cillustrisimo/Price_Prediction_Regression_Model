{
 "cells": [
  {
   "cell_type": "markdown",
   "id": "f1ce3e31",
   "metadata": {},
   "source": [
    "# Predicting Sale Price of Bulldozers with Machine Learning\n",
    "\n",
    "As part of my continued self-study of machine learning, the goal and idea for this project is taken form the 2013 <a href=\"https://www.kaggle.com/competitions/bluebook-for-bulldozers\"> Bluebook for Bulldozers</a> Kaggle competition, with the goal of predicting the sale price of bulldozers\n",
    "\n",
    "## 1. Problem Definition\n",
    "\n",
    "Via Kaggle:\n",
    "> Predict the auction sale price for a piece of heavy equipment to create a \"blue book\" for bulldozers. (given its characteristics and previous examples of sales)\n",
    "\n",
    "## 2. Data\n",
    "\n",
    "Sourced from the Kaggle Bluebook for Bulldozers competition.\n",
    "\n",
    "Via Kaggle:\n",
    "\n",
    "**The data for this competition is split into three parts:**\n",
    "\n",
    "* Train.csv is the training set, which contains data through the end of 2011. \n",
    "* Valid.csv is the validation set, which contains data from January 1, 2012 - April 30, 2012 You make predictions on this set throughout the majority of the competition. Your score on this set is used to create the public leaderboard.\n",
    "* Test.csv is the test set, which won't be released until the last week of the competition. It contains data from May 1, 2012 - November 2012. Your score on the test set determines your final rank for the competition.\n",
    "\n",
    "**The key fields are in train.csv are:**\n",
    "* SalesID: the uniue identifier of the sale\n",
    "* MachineID: the unique identifier of a machine.  A machine can be sold multiple times\n",
    "* saleprice: what the machine sold for at auction (only provided in train.csv)\n",
    "* saledate: the date of the sale\n",
    ">There are several fields towards the end of the file on the different options a machine can have.  The descriptions all start with \"machine configuration\" in the data dictionary.  Some product types do not have a particular option, so all the records for that option variable will be null for that product type.  Also, some sources do not provide good option and/or hours data.\n",
    "The machine_appendix.csv file contains the correct year manufactured for a given machine along with the make, model, and product class details. There is one machine id for every machine in all the competition datasets (training, evaluation, etc.).\n",
    "\n",
    "\n",
    "## 3. Evaluation\n",
    "\n",
    "Via Kaggle:\n",
    "> The evaluation metric for this competition is the RMSLE (root mean squared log error) between the actual and predicted \n",
    "auction prices.\n",
    "\n",
    "In other words, our goal will be to minimize RMSLE (we want to minimize error in our models, as opposed to seeking higher numbers with metrics like accuracy or recall)\n",
    "\n",
    "## 4. Features\n",
    "\n",
    "The key fields are briefly summarized above, however all pertinent features are in the data dictionary file, contained in the data folder of this project.\n",
    "\n",
    "For convenience, I have also uploaded it to this <a href=\"https://docs.google.com/spreadsheets/d/19HfRihygKKxzJo0wzkHSrEoNhFWALf56/edit?usp=sharing&ouid=112459716149184577876&rtpof=true&sd=true\"> link </a>"
   ]
  },
  {
   "cell_type": "code",
   "execution_count": 7,
   "id": "6a3c6d2a",
   "metadata": {},
   "outputs": [],
   "source": [
    "import numpy as np\n",
    "import pandas as pd\n",
    "import matplotlib.pyplot as plt\n",
    "import sklearn\n",
    "\n",
    "%matplotlib inline"
   ]
  },
  {
   "cell_type": "code",
   "execution_count": null,
   "id": "c4c93713",
   "metadata": {},
   "outputs": [],
   "source": []
  }
 ],
 "metadata": {
  "kernelspec": {
   "display_name": "Python 3 (ipykernel)",
   "language": "python",
   "name": "python3"
  },
  "language_info": {
   "codemirror_mode": {
    "name": "ipython",
    "version": 3
   },
   "file_extension": ".py",
   "mimetype": "text/x-python",
   "name": "python",
   "nbconvert_exporter": "python",
   "pygments_lexer": "ipython3",
   "version": "3.11.3"
  }
 },
 "nbformat": 4,
 "nbformat_minor": 5
}
